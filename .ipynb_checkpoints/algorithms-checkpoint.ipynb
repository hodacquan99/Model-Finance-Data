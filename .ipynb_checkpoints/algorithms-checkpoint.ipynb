{
 "cells": [
  {
   "cell_type": "code",
   "execution_count": 1,
   "metadata": {
    "collapsed": true
   },
   "outputs": [],
   "source": [
    "import pandas as pd\n",
    "import numpy as np\n",
    "import matplotlib.pyplot as plt"
   ]
  },
  {
   "cell_type": "code",
   "execution_count": 2,
   "metadata": {
    "collapsed": true
   },
   "outputs": [],
   "source": [
    "def sum_index_way(df):\n",
    "    result = df.isnull().sum(axis=1)\n",
    "    result.reindex(df.index, copy=False)\n",
    "    indexes = np.nonzero(result == df.shape[1])\n",
    "    \n",
    "    temp = df.fillna(0)\n",
    "    result = df.sum(skipna=True,axis=1)\n",
    "    result.loc[indexes] = np.nan\n",
    "    \n",
    "    return result"
   ]
  },
  {
   "cell_type": "markdown",
   "metadata": {},
   "source": [
    "#### Rolling mean + difference"
   ]
  },
  {
   "cell_type": "code",
   "execution_count": 3,
   "metadata": {
    "collapsed": true
   },
   "outputs": [],
   "source": [
    "df_test = pd.DataFrame({'A': [1,2,np.nan,np.nan,np.nan,3]})\n",
    "df_test['B'] = np.array([5,10,3,4,15,6])\n",
    "df_test['C'] = np.array([3,np.nan,4,5,np.nan,10])\n",
    "# USE THIS!\n",
    "df_test['dA'] = df_test['A'].diff(1).fillna(0)\n",
    "df_test['dA_NaNs'] = df_test['A'].diff(1)\n",
    "df_test['rolling_mean'] = df_test['A'].rolling(window= 2, min_periods=1).mean()"
   ]
  },
  {
   "cell_type": "markdown",
   "metadata": {
    "collapsed": true
   },
   "source": [
    "#### Numpy std and Pandas std use different conventions. Pandas uses N-1 unbiased convention (for unknown population mean)."
   ]
  },
  {
   "cell_type": "code",
   "execution_count": 4,
   "metadata": {},
   "outputs": [
    {
     "name": "stdout",
     "output_type": "stream",
     "text": [
      "0.816496580928\n",
      "0.816496580927726\n",
      "1.0\n"
     ]
    }
   ],
   "source": [
    "# print (df_test['A'].std(skipna=True))\n",
    "# print(np.nanstd(df_test['A']))\n",
    "print(np.nanstd(df_test['A']))\n",
    "print(np.std(df_test['A']))\n",
    "print(df_test['A'].std())\n",
    "df_test['normalize0'] = (df_test['A'] - df_test['A'].mean()) / df_test['A'].std()\n",
    "df_test['normalize1'] = (df_test['A'] - np.nanmean(df_test['A'])) / np.nanstd(df_test['A'])"
   ]
  },
  {
   "cell_type": "markdown",
   "metadata": {},
   "source": [
    "#### Fill NA Problems"
   ]
  },
  {
   "cell_type": "code",
   "execution_count": 5,
   "metadata": {},
   "outputs": [
    {
     "name": "stdout",
     "output_type": "stream",
     "text": [
      "     A   B     C\n",
      "0  1.0   5   3.0\n",
      "1  2.0  10   NaN\n",
      "2  NaN   3   4.0\n",
      "3  NaN   4   5.0\n",
      "4  NaN  15   NaN\n",
      "5  3.0   6  10.0\n"
     ]
    },
    {
     "data": {
      "text/plain": [
       "0     3.0\n",
       "1    12.0\n",
       "2     4.0\n",
       "3     5.0\n",
       "4    15.0\n",
       "5    10.0\n",
       "Name: C, dtype: float64"
      ]
     },
     "execution_count": 5,
     "metadata": {},
     "output_type": "execute_result"
    }
   ],
   "source": [
    "d = df_test[['A', 'B', 'C']]\n",
    "# print(set(list(d.iloc[2:3,:].values[0])))\n",
    "# print (type(sum_index_way(d)))\n",
    "\n",
    "d.where(d['A'].isnull())\n",
    "print (d)\n",
    "# print (sum_index_way(d[['A','B']]))\n",
    "d['C'].fillna(sum_index_way(d[['A','B']]))\n",
    "# d['C'].fillna({1: 100, 0: 200, 2: 300, 3: 400, 4: 500, 5: 600})"
   ]
  },
  {
   "cell_type": "code",
   "execution_count": 9,
   "metadata": {},
   "outputs": [
    {
     "name": "stdout",
     "output_type": "stream",
     "text": [
      "[1, 2, 3, 4, 5, 6, 7, 8]\n"
     ]
    }
   ],
   "source": [
    "a = [1,2,3,4,5]\n",
    "b= [4,5,6,7,8]\n",
    "\n",
    "c = a + b \n",
    "print (list(set(a+b)))"
   ]
  },
  {
   "cell_type": "code",
   "execution_count": 91,
   "metadata": {},
   "outputs": [
    {
     "name": "stdout",
     "output_type": "stream",
     "text": [
      "   Thee\n",
      "2     1\n",
      "1     1\n",
      "0     1\n",
      "3     1\n",
      "        One  Two  Three\n",
      "High 0  NaN  NaN    3.0\n",
      "     1  NaN  NaN    3.0\n",
      "     2  NaN  NaN    3.0\n",
      "     3  NaN  NaN    3.0\n",
      "     4  NaN  NaN    3.0\n",
      "Low  0  NaN  NaN    NaN\n",
      "     1  NaN  NaN    NaN\n",
      "     2  NaN  NaN    NaN\n",
      "     3  NaN  NaN    NaN\n",
      "     4  NaN  NaN    NaN\n",
      "   Thee  One  Two  Three\n",
      "0   1.0  NaN  NaN    NaN\n",
      "1   1.0  NaN  NaN    NaN\n",
      "2   1.0  NaN  NaN    NaN\n",
      "3   1.0  NaN  NaN    NaN\n",
      "4   NaN  NaN  NaN    NaN\n"
     ]
    }
   ],
   "source": [
    "idx = [0,1,2,3,4]\n",
    "idx2 = ['High', 'Low']\n",
    "cols = ['One', 'Two', 'Three']\n",
    "idxx = pd.MultiIndex.from_product([idx2, idx])\n",
    "\n",
    "d1 = pd.DataFrame(np.nan,index=idxx,columns=cols)\n",
    "d1\n",
    "d2 = pd.DataFrame(1,index=[2,1,0,3],columns=['Thee'])\n",
    "d3 = pd.DataFrame(3,index=[2,1,0,3,4],columns=cols[2:3])\n",
    "# print (type(d1.loc['High']))\n",
    "# print (d2)\n",
    "print (d2)\n",
    "d4 = d2.join(d1.loc['High'], how='right')\n",
    "d1.loc['High'].update(d3)\n",
    "\n",
    "print (d1)\n",
    "print (d4)"
   ]
  }
 ],
 "metadata": {
  "kernelspec": {
   "display_name": "Python 3",
   "language": "python",
   "name": "python3"
  },
  "language_info": {
   "codemirror_mode": {
    "name": "ipython",
    "version": 3
   },
   "file_extension": ".py",
   "mimetype": "text/x-python",
   "name": "python",
   "nbconvert_exporter": "python",
   "pygments_lexer": "ipython3",
   "version": "3.6.1"
  }
 },
 "nbformat": 4,
 "nbformat_minor": 2
}
